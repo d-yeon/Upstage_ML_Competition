{
 "cells": [
  {
   "cell_type": "code",
   "execution_count": 8,
   "metadata": {},
   "outputs": [],
   "source": [
    "import pandas as pd\n",
    "import math\n",
    "\n",
    "# 파일 경로\n",
    "lgbm_file_path = 'output_lgbm.csv'  # LightGBM 결과 파일 경로\n",
    "xgb_file_path = 'output_XGB.csv'    # XGB 결과 파일 경로\n",
    "\n",
    "# 파일 읽기\n",
    "lgbm_predictions = pd.read_csv(lgbm_file_path)\n",
    "xgb_predictions = pd.read_csv(xgb_file_path)\n",
    "\n",
    "# 두 모델의 예측값 평균 계산\n",
    "ensemble_predictions = (lgbm_predictions['target'] + xgb_predictions['target']) / 2\n",
    "\n",
    "# 반올림, 올림, 버림 결과 계산\n",
    "ensemble_rounded = ensemble_predictions.round()  # 반올림\n",
    "ensemble_ceiled = ensemble_predictions.apply(math.ceil)  # 올림\n",
    "ensemble_floored = ensemble_predictions.apply(math.floor)  # 버림\n",
    "\n",
    "# 결과를 DataFrame으로 변환\n",
    "ensemble_df = pd.DataFrame({'target': ensemble_predictions})\n",
    "ensemble_rounded_df = pd.DataFrame({'target': ensemble_rounded})\n",
    "ensemble_ceiled_df = pd.DataFrame({'target': ensemble_ceiled})\n",
    "ensemble_floored_df = pd.DataFrame({'target': ensemble_floored})\n",
    "\n",
    "# 결과 저장\n",
    "ensemble_file_path = '../data/ensemble_predictions_XGB_LGBM.csv'\n",
    "\n",
    "ensemble_rounded_file_path = '../data/ensemble_rounded_predictions.csv'\n",
    "ensemble_ceiled_file_path = '../data/ensemble_ceiled_predictions.csv'\n",
    "ensemble_floored_file_path = '../data/ensemble_floored_predictions.csv'\n",
    "\n",
    "ensemble_df.to_csv(ensemble_file_path, index=False)\n",
    "ensemble_rounded_df.to_csv(ensemble_rounded_file_path, index=False)\n",
    "ensemble_ceiled_df.to_csv(ensemble_ceiled_file_path, index=False)\n",
    "ensemble_floored_df.to_csv(ensemble_floored_file_path, index=False)\n",
    "\n"
   ]
  },
  {
   "cell_type": "code",
   "execution_count": 11,
   "metadata": {},
   "outputs": [],
   "source": [
    "# XGB 모델의 예측값에 10을 더함\n",
    "xgb_plus_500 = xgb_predictions['target'] + 500\n",
    "\n",
    "# 결과를 DataFrame으로 변환\n",
    "xgb_plus_500_df = pd.DataFrame({'target': xgb_plus_500})\n",
    "\n",
    "# 결과 확인\n",
    "xgb_plus_500_df.head()\n",
    "\n",
    "xgb_plus_500_df_path = '../data/XGB_Plus_500.csv'\n",
    "xgb_plus_500_df.to_csv(xgb_plus_500_df_path, index=False)\n"
   ]
  }
 ],
 "metadata": {
  "kernelspec": {
   "display_name": "base",
   "language": "python",
   "name": "python3"
  },
  "language_info": {
   "codemirror_mode": {
    "name": "ipython",
    "version": 3
   },
   "file_extension": ".py",
   "mimetype": "text/x-python",
   "name": "python",
   "nbconvert_exporter": "python",
   "pygments_lexer": "ipython3",
   "version": "3.10.13"
  }
 },
 "nbformat": 4,
 "nbformat_minor": 2
}
